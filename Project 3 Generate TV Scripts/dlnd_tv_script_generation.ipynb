{
 "cells": [
  {
   "cell_type": "markdown",
   "metadata": {},
   "source": [
    "# TV Script Generation\n",
    "In this project, you'll generate your own [Simpsons](https://en.wikipedia.org/wiki/The_Simpsons) TV scripts using RNNs.  You'll be using part of the [Simpsons dataset](https://www.kaggle.com/wcukierski/the-simpsons-by-the-data) of scripts from 27 seasons.  The Neural Network you'll build will generate a new TV script for a scene at [Moe's Tavern](https://simpsonswiki.com/wiki/Moe's_Tavern).\n",
    "## Get the Data\n",
    "The data is already provided for you.  You'll be using a subset of the original dataset.  It consists of only the scenes in Moe's Tavern.  This doesn't include other versions of the tavern, like \"Moe's Cavern\", \"Flaming Moe's\", \"Uncle Moe's Family Feed-Bag\", etc.."
   ]
  },
  {
   "cell_type": "code",
   "execution_count": 1,
   "metadata": {},
   "outputs": [],
   "source": [
    "\"\"\"\n",
    "DON'T MODIFY ANYTHING IN THIS CELL\n",
    "\"\"\"\n",
    "import helper\n",
    "\n",
    "data_dir = './data/simpsons/moes_tavern_lines.txt'\n",
    "text = helper.load_data(data_dir)\n",
    "# Ignore notice, since we don't use it for analysing the data\n",
    "text = text[81:]"
   ]
  },
  {
   "cell_type": "markdown",
   "metadata": {},
   "source": [
    "## Explore the Data\n",
    "Play around with `view_sentence_range` to view different parts of the data."
   ]
  },
  {
   "cell_type": "code",
   "execution_count": 2,
   "metadata": {},
   "outputs": [
    {
     "name": "stdout",
     "output_type": "stream",
     "text": [
      "Dataset Stats\n",
      "Roughly the number of unique words: 11492\n",
      "Number of scenes: 262\n",
      "Average number of sentences in each scene: 15.248091603053435\n",
      "Number of lines: 4257\n",
      "Average number of words in each line: 11.50434578341555\n",
      "\n",
      "The sentences 0 to 10:\n",
      "Moe_Szyslak: (INTO PHONE) Moe's Tavern. Where the elite meet to drink.\n",
      "Bart_Simpson: Eh, yeah, hello, is Mike there? Last name, Rotch.\n",
      "Moe_Szyslak: (INTO PHONE) Hold on, I'll check. (TO BARFLIES) Mike Rotch. Mike Rotch. Hey, has anybody seen Mike Rotch, lately?\n",
      "Moe_Szyslak: (INTO PHONE) Listen you little puke. One of these days I'm gonna catch you, and I'm gonna carve my name on your back with an ice pick.\n",
      "Moe_Szyslak: What's the matter Homer? You're not your normal effervescent self.\n",
      "Homer_Simpson: I got my problems, Moe. Give me another one.\n",
      "Moe_Szyslak: Homer, hey, you should not drink to forget your problems.\n",
      "Barney_Gumble: Yeah, you should only drink to enhance your social skills.\n",
      "\n",
      "\n"
     ]
    }
   ],
   "source": [
    "view_sentence_range = (0, 10)\n",
    "\n",
    "\"\"\"\n",
    "DON'T MODIFY ANYTHING IN THIS CELL\n",
    "\"\"\"\n",
    "import numpy as np\n",
    "\n",
    "print('Dataset Stats')\n",
    "print('Roughly the number of unique words: {}'.format(len({word: None for word in text.split()})))\n",
    "scenes = text.split('\\n\\n')\n",
    "print('Number of scenes: {}'.format(len(scenes)))\n",
    "sentence_count_scene = [scene.count('\\n') for scene in scenes]\n",
    "print('Average number of sentences in each scene: {}'.format(np.average(sentence_count_scene)))\n",
    "\n",
    "sentences = [sentence for scene in scenes for sentence in scene.split('\\n')]\n",
    "print('Number of lines: {}'.format(len(sentences)))\n",
    "word_count_sentence = [len(sentence.split()) for sentence in sentences]\n",
    "print('Average number of words in each line: {}'.format(np.average(word_count_sentence)))\n",
    "\n",
    "print()\n",
    "print('The sentences {} to {}:'.format(*view_sentence_range))\n",
    "print('\\n'.join(text.split('\\n')[view_sentence_range[0]:view_sentence_range[1]]))"
   ]
  },
  {
   "cell_type": "markdown",
   "metadata": {},
   "source": [
    "## Implement Preprocessing Functions\n",
    "The first thing to do to any dataset is preprocessing.  Implement the following preprocessing functions below:\n",
    "- Lookup Table\n",
    "- Tokenize Punctuation\n",
    "\n",
    "### Lookup Table\n",
    "To create a word embedding, you first need to transform the words to ids.  In this function, create two dictionaries:\n",
    "- Dictionary to go from the words to an id, we'll call `vocab_to_int`\n",
    "- Dictionary to go from the id to word, we'll call `int_to_vocab`\n",
    "\n",
    "Return these dictionaries in the following tuple `(vocab_to_int, int_to_vocab)`"
   ]
  },
  {
   "cell_type": "code",
   "execution_count": 3,
   "metadata": {},
   "outputs": [
    {
     "name": "stdout",
     "output_type": "stream",
     "text": [
      "Tests Passed\n"
     ]
    }
   ],
   "source": [
    "import numpy as np\n",
    "import problem_unittests as tests\n",
    "\n",
    "def create_lookup_tables(text):\n",
    "    \"\"\"\n",
    "    Create lookup tables for vocabulary\n",
    "    :param text: The text of tv scripts split into words\n",
    "    :return: A tuple of dicts (vocab_to_int, int_to_vocab)\n",
    "    \"\"\"\n",
    "    # TODO: Implement Function\n",
    "    vocab_to_int = {v: i for i,v in enumerate(set(text))}\n",
    "    int_to_vocab = {i: v for i,v in enumerate(set(text))}\n",
    "    return (vocab_to_int, int_to_vocab)\n",
    "\n",
    "\n",
    "\"\"\"\n",
    "DON'T MODIFY ANYTHING IN THIS CELL THAT IS BELOW THIS LINE\n",
    "\"\"\"\n",
    "tests.test_create_lookup_tables(create_lookup_tables)"
   ]
  },
  {
   "cell_type": "markdown",
   "metadata": {},
   "source": [
    "### Tokenize Punctuation\n",
    "We'll be splitting the script into a word array using spaces as delimiters.  However, punctuations like periods and exclamation marks make it hard for the neural network to distinguish between the word \"bye\" and \"bye!\".\n",
    "\n",
    "Implement the function `token_lookup` to return a dict that will be used to tokenize symbols like \"!\" into \"||Exclamation_Mark||\".  Create a dictionary for the following symbols where the symbol is the key and value is the token:\n",
    "- Period ( . )\n",
    "- Comma ( , )\n",
    "- Quotation Mark ( \" )\n",
    "- Semicolon ( ; )\n",
    "- Exclamation mark ( ! )\n",
    "- Question mark ( ? )\n",
    "- Left Parentheses ( ( )\n",
    "- Right Parentheses ( ) )\n",
    "- Dash ( -- )\n",
    "- Return ( \\n )\n",
    "\n",
    "This dictionary will be used to token the symbols and add the delimiter (space) around it.  This separates the symbols as it's own word, making it easier for the neural network to predict on the next word. Make sure you don't use a token that could be confused as a word. Instead of using the token \"dash\", try using something like \"||dash||\"."
   ]
  },
  {
   "cell_type": "code",
   "execution_count": 25,
   "metadata": {},
   "outputs": [
    {
     "name": "stdout",
     "output_type": "stream",
     "text": [
      "Tests Passed\n"
     ]
    }
   ],
   "source": [
    "def token_lookup():\n",
    "    \"\"\"\n",
    "    Generate a dict to turn punctuation into a token.\n",
    "    :return: Tokenize dictionary where the key is the punctuation and the value is the token\n",
    "    \"\"\"\n",
    "    # TODO: Implement Function\n",
    "    return {\n",
    "    '(':'||Left_Parentheses||',\n",
    "    ')':'||Right_Parentheses||',\n",
    "    '\"':'||Quotation_Mark||',\n",
    "    ';':'||Semi_Colon||',\n",
    "    '!':'||Exclamation_Mark||',\n",
    "    '\\n':'||Return||',\n",
    "    '?':'||Question_Mark||',\n",
    "    '--':'||Dash||',\n",
    "    '.':'||Period||',\n",
    "    ',':'||Comma||',}\n",
    "\n",
    "\"\"\"\n",
    "DON'T MODIFY ANYTHING IN THIS CELL THAT IS BELOW THIS LINE\n",
    "\"\"\"\n",
    "tests.test_tokenize(token_lookup)"
   ]
  },
  {
   "cell_type": "markdown",
   "metadata": {},
   "source": [
    "## Preprocess all the data and save it\n",
    "Running the code cell below will preprocess all the data and save it to file."
   ]
  },
  {
   "cell_type": "code",
   "execution_count": 5,
   "metadata": {},
   "outputs": [],
   "source": [
    "\"\"\"\n",
    "DON'T MODIFY ANYTHING IN THIS CELL\n",
    "\"\"\"\n",
    "# Preprocess Training, Validation, and Testing Data\n",
    "helper.preprocess_and_save_data(data_dir, token_lookup, create_lookup_tables)"
   ]
  },
  {
   "cell_type": "markdown",
   "metadata": {},
   "source": [
    "# Check Point\n",
    "This is your first checkpoint. If you ever decide to come back to this notebook or have to restart the notebook, you can start from here. The preprocessed data has been saved to disk."
   ]
  },
  {
   "cell_type": "code",
   "execution_count": 6,
   "metadata": {},
   "outputs": [],
   "source": [
    "\"\"\"\n",
    "DON'T MODIFY ANYTHING IN THIS CELL\n",
    "\"\"\"\n",
    "import helper\n",
    "import numpy as np\n",
    "import problem_unittests as tests\n",
    "\n",
    "int_text, vocab_to_int, int_to_vocab, token_dict = helper.load_preprocess()"
   ]
  },
  {
   "cell_type": "markdown",
   "metadata": {},
   "source": [
    "## Build the Neural Network\n",
    "You'll build the components necessary to build a RNN by implementing the following functions below:\n",
    "- get_inputs\n",
    "- get_init_cell\n",
    "- get_embed\n",
    "- build_rnn\n",
    "- build_nn\n",
    "- get_batches\n",
    "\n",
    "### Check the Version of TensorFlow and Access to GPU"
   ]
  },
  {
   "cell_type": "code",
   "execution_count": 7,
   "metadata": {},
   "outputs": [
    {
     "name": "stdout",
     "output_type": "stream",
     "text": [
      "TensorFlow Version: 1.3.0\n",
      "Default GPU Device: /gpu:0\n"
     ]
    }
   ],
   "source": [
    "\"\"\"\n",
    "DON'T MODIFY ANYTHING IN THIS CELL\n",
    "\"\"\"\n",
    "from distutils.version import LooseVersion\n",
    "import warnings\n",
    "import tensorflow as tf\n",
    "\n",
    "# Check TensorFlow Version\n",
    "assert LooseVersion(tf.__version__) >= LooseVersion('1.3'), 'Please use TensorFlow version 1.3 or newer'\n",
    "print('TensorFlow Version: {}'.format(tf.__version__))\n",
    "\n",
    "# Check for a GPU\n",
    "if not tf.test.gpu_device_name():\n",
    "    warnings.warn('No GPU found. Please use a GPU to train your neural network.')\n",
    "else:\n",
    "    print('Default GPU Device: {}'.format(tf.test.gpu_device_name()))"
   ]
  },
  {
   "cell_type": "markdown",
   "metadata": {},
   "source": [
    "### Input\n",
    "Implement the `get_inputs()` function to create TF Placeholders for the Neural Network.  It should create the following placeholders:\n",
    "- Input text placeholder named \"input\" using the [TF Placeholder](https://www.tensorflow.org/api_docs/python/tf/placeholder) `name` parameter.\n",
    "- Targets placeholder\n",
    "- Learning Rate placeholder\n",
    "\n",
    "Return the placeholders in the following tuple `(Input, Targets, LearningRate)`"
   ]
  },
  {
   "cell_type": "code",
   "execution_count": 8,
   "metadata": {},
   "outputs": [
    {
     "name": "stdout",
     "output_type": "stream",
     "text": [
      "Tests Passed\n"
     ]
    }
   ],
   "source": [
    "def get_inputs():\n",
    "    \"\"\"\n",
    "    Create TF Placeholders for input, targets, and learning rate.\n",
    "    :return: Tuple (input, targets, learning rate)\n",
    "    \"\"\"\n",
    "    # TODO: Implement Function\n",
    "    Input = tf.placeholder(dtype = tf.int32, shape = [None, None], name = 'input')\n",
    "    Targets = tf.placeholder(dtype = tf.int32, shape = [None, None], name = 'targets')\n",
    "    LearningRate = tf.placeholder(dtype = tf.float32, name = 'learning_rate')\n",
    "    return (Input, Targets, LearningRate)\n",
    "\n",
    "\n",
    "\"\"\"\n",
    "DON'T MODIFY ANYTHING IN THIS CELL THAT IS BELOW THIS LINE\n",
    "\"\"\"\n",
    "tests.test_get_inputs(get_inputs)"
   ]
  },
  {
   "cell_type": "markdown",
   "metadata": {},
   "source": [
    "### Build RNN Cell and Initialize\n",
    "Stack one or more [`BasicLSTMCells`](https://www.tensorflow.org/api_docs/python/tf/contrib/rnn/BasicLSTMCell) in a [`MultiRNNCell`](https://www.tensorflow.org/api_docs/python/tf/contrib/rnn/MultiRNNCell).\n",
    "- The Rnn size should be set using `rnn_size`\n",
    "- Initalize Cell State using the MultiRNNCell's [`zero_state()`](https://www.tensorflow.org/api_docs/python/tf/contrib/rnn/MultiRNNCell#zero_state) function\n",
    "    - Apply the name \"initial_state\" to the initial state using [`tf.identity()`](https://www.tensorflow.org/api_docs/python/tf/identity)\n",
    "\n",
    "Return the cell and initial state in the following tuple `(Cell, InitialState)`"
   ]
  },
  {
   "cell_type": "code",
   "execution_count": 9,
   "metadata": {},
   "outputs": [
    {
     "name": "stdout",
     "output_type": "stream",
     "text": [
      "Tests Passed\n"
     ]
    }
   ],
   "source": [
    "def get_init_cell(batch_size, rnn_size):\n",
    "    \"\"\"\n",
    "    Create an RNN Cell and initialize it.\n",
    "    :param batch_size: Size of batches\n",
    "    :param rnn_size: Size of RNNs\n",
    "    :return: Tuple (cell, initialize state)\n",
    "    \"\"\"\n",
    "    # TODO: Implement Function\n",
    "    lstm = tf.contrib.rnn.BasicLSTMCell(rnn_size)\n",
    "    Cell = tf.contrib.rnn.MultiRNNCell([lstm])\n",
    "    InitialState = Cell.zero_state(batch_size, tf.float32)\n",
    "    InitialState = tf.identity(InitialState, 'initial_state')\n",
    "    return (Cell, InitialState)\n",
    "\n",
    "\n",
    "\"\"\"\n",
    "DON'T MODIFY ANYTHING IN THIS CELL THAT IS BELOW THIS LINE\n",
    "\"\"\"\n",
    "tests.test_get_init_cell(get_init_cell)"
   ]
  },
  {
   "cell_type": "markdown",
   "metadata": {},
   "source": [
    "### Word Embedding\n",
    "Apply embedding to `input_data` using TensorFlow.  Return the embedded sequence."
   ]
  },
  {
   "cell_type": "code",
   "execution_count": 10,
   "metadata": {},
   "outputs": [
    {
     "name": "stdout",
     "output_type": "stream",
     "text": [
      "Tests Passed\n"
     ]
    }
   ],
   "source": [
    "def get_embed(input_data, vocab_size, embed_dim):\n",
    "    \"\"\"\n",
    "    Create embedding for <input_data>.\n",
    "    :param input_data: TF placeholder for text input.\n",
    "    :param vocab_size: Number of words in vocabulary.\n",
    "    :param embed_dim: Number of embedding dimensions\n",
    "    :return: Embedded input.\n",
    "    \"\"\"\n",
    "    # TODO: Implement Function\n",
    "    embedding = tf.Variable(tf.random_uniform((vocab_size, embed_dim), -1, 1))\n",
    "    embedded_input = tf.nn.embedding_lookup(embedding, input_data)\n",
    "    return embedded_input\n",
    "\n",
    "\n",
    "\"\"\"\n",
    "DON'T MODIFY ANYTHING IN THIS CELL THAT IS BELOW THIS LINE\n",
    "\"\"\"\n",
    "tests.test_get_embed(get_embed)"
   ]
  },
  {
   "cell_type": "markdown",
   "metadata": {},
   "source": [
    "### Build RNN\n",
    "You created a RNN Cell in the `get_init_cell()` function.  Time to use the cell to create a RNN.\n",
    "- Build the RNN using the [`tf.nn.dynamic_rnn()`](https://www.tensorflow.org/api_docs/python/tf/nn/dynamic_rnn)\n",
    " - Apply the name \"final_state\" to the final state using [`tf.identity()`](https://www.tensorflow.org/api_docs/python/tf/identity)\n",
    "\n",
    "Return the outputs and final_state state in the following tuple `(Outputs, FinalState)` "
   ]
  },
  {
   "cell_type": "code",
   "execution_count": 11,
   "metadata": {},
   "outputs": [
    {
     "name": "stdout",
     "output_type": "stream",
     "text": [
      "Tests Passed\n"
     ]
    }
   ],
   "source": [
    "def build_rnn(cell, inputs):\n",
    "    \"\"\"\n",
    "    Create a RNN using a RNN Cell\n",
    "    :param cell: RNN Cell\n",
    "    :param inputs: Input text data\n",
    "    :return: Tuple (Outputs, Final State)\n",
    "    \"\"\"\n",
    "    # TODO: Implement Function\n",
    "    Outputs, State = tf.nn.dynamic_rnn(cell, inputs, dtype = tf.float32)\n",
    "    FinalState = tf.identity(State, name = 'final_state')\n",
    "    return (Outputs, FinalState)\n",
    "\n",
    "\n",
    "\"\"\"\n",
    "DON'T MODIFY ANYTHING IN THIS CELL THAT IS BELOW THIS LINE\n",
    "\"\"\"\n",
    "tests.test_build_rnn(build_rnn)"
   ]
  },
  {
   "cell_type": "markdown",
   "metadata": {},
   "source": [
    "### Build the Neural Network\n",
    "Apply the functions you implemented above to:\n",
    "- Apply embedding to `input_data` using your `get_embed(input_data, vocab_size, embed_dim)` function.\n",
    "- Build RNN using `cell` and your `build_rnn(cell, inputs)` function.\n",
    "- Apply a fully connected layer with a linear activation and `vocab_size` as the number of outputs.\n",
    "\n",
    "Return the logits and final state in the following tuple (Logits, FinalState) "
   ]
  },
  {
   "cell_type": "code",
   "execution_count": 12,
   "metadata": {},
   "outputs": [
    {
     "name": "stdout",
     "output_type": "stream",
     "text": [
      "Tests Passed\n"
     ]
    }
   ],
   "source": [
    "def build_nn(cell, rnn_size, input_data, vocab_size, embed_dim):\n",
    "    \"\"\"\n",
    "    Build part of the neural network\n",
    "    :param cell: RNN cell\n",
    "    :param rnn_size: Size of rnns\n",
    "    :param input_data: Input data\n",
    "    :param vocab_size: Vocabulary size\n",
    "    :param embed_dim: Number of embedding dimensions\n",
    "    :return: Tuple (Logits, FinalState)\n",
    "    \"\"\"\n",
    "    # TODO: Implement Function\n",
    "    embedded = get_embed(input_data, vocab_size, embed_dim)\n",
    "    outputs, FinalState = build_rnn(cell, embedded)\n",
    "    Logits = tf.contrib.layers.fully_connected(inputs = outputs, num_outputs = vocab_size, activation_fn = None, \n",
    "                                              weights_initializer = tf.truncated_normal_initializer(stddev = 0.1),\n",
    "                                              biases_initializer = tf.zeros_initializer())\n",
    "    return (Logits, FinalState)\n",
    "\n",
    "\n",
    "\"\"\"\n",
    "DON'T MODIFY ANYTHING IN THIS CELL THAT IS BELOW THIS LINE\n",
    "\"\"\"\n",
    "tests.test_build_nn(build_nn)"
   ]
  },
  {
   "cell_type": "markdown",
   "metadata": {},
   "source": [
    "### Batches\n",
    "Implement `get_batches` to create batches of input and targets using `int_text`.  The batches should be a Numpy array with the shape `(number of batches, 2, batch size, sequence length)`. Each batch contains two elements:\n",
    "- The first element is a single batch of **input** with the shape `[batch size, sequence length]`\n",
    "- The second element is a single batch of **targets** with the shape `[batch size, sequence length]`\n",
    "\n",
    "If you can't fill the last batch with enough data, drop the last batch.\n",
    "\n",
    "For example, `get_batches([1, 2, 3, 4, 5, 6, 7, 8, 9, 10, 11, 12, 13, 14, 15, 16, 17, 18, 19, 20], 3, 2)` would return a Numpy array of the following:\n",
    "```\n",
    "[\n",
    "  # First Batch\n",
    "  [\n",
    "    # Batch of Input\n",
    "    [[ 1  2], [ 7  8], [13 14]]\n",
    "    # Batch of targets\n",
    "    [[ 2  3], [ 8  9], [14 15]]\n",
    "  ]\n",
    "\n",
    "  # Second Batch\n",
    "  [\n",
    "    # Batch of Input\n",
    "    [[ 3  4], [ 9 10], [15 16]]\n",
    "    # Batch of targets\n",
    "    [[ 4  5], [10 11], [16 17]]\n",
    "  ]\n",
    "\n",
    "  # Third Batch\n",
    "  [\n",
    "    # Batch of Input\n",
    "    [[ 5  6], [11 12], [17 18]]\n",
    "    # Batch of targets\n",
    "    [[ 6  7], [12 13], [18  1]]\n",
    "  ]\n",
    "]\n",
    "```\n",
    "\n",
    "Notice that the last target value in the last batch is the first input value of the first batch. In this case, `1`. This is a common technique used when creating sequence batches, although it is rather unintuitive."
   ]
  },
  {
   "cell_type": "code",
   "execution_count": 13,
   "metadata": {},
   "outputs": [
    {
     "name": "stdout",
     "output_type": "stream",
     "text": [
      "Tests Passed\n"
     ]
    }
   ],
   "source": [
    "def get_batches(int_text, batch_size, seq_length):\n",
    "    \"\"\"\n",
    "    Return batches of input and target\n",
    "    :param int_text: Text with the words replaced by their ids\n",
    "    :param batch_size: The size of batch\n",
    "    :param seq_length: The length of sequence\n",
    "    :return: Batches as a Numpy array\n",
    "    \"\"\"\n",
    "    # TODO: Implement Function\n",
    "    n_batches = len(int_text) // (batch_size * seq_length)\n",
    "    all_text = np.array(int_text[:n_batches * batch_size * seq_length])\n",
    "    int_text = np.array(all_text)\n",
    "    tar_text = all_text[1:]\n",
    "    tar_text_shift = np.append(tar_text, all_text[0])\n",
    "    int_batches = np.split(int_text.reshape(batch_size, -1), n_batches, 1)\n",
    "    tar_batches = np.split(tar_text_shift.reshape(batch_size, -1), n_batches, 1)\n",
    "    \n",
    "    batch_data = list(zip(int_batches, tar_batches))\n",
    "    \n",
    "    return np.array(batch_data)\n",
    "\n",
    "\n",
    "\"\"\"\n",
    "DON'T MODIFY ANYTHING IN THIS CELL THAT IS BELOW THIS LINE\n",
    "\"\"\"\n",
    "tests.test_get_batches(get_batches)"
   ]
  },
  {
   "cell_type": "markdown",
   "metadata": {},
   "source": [
    "## Neural Network Training\n",
    "### Hyperparameters\n",
    "Tune the following parameters:\n",
    "\n",
    "- Set `num_epochs` to the number of epochs.\n",
    "- Set `batch_size` to the batch size.\n",
    "- Set `rnn_size` to the size of the RNNs.\n",
    "- Set `embed_dim` to the size of the embedding.\n",
    "- Set `seq_length` to the length of sequence.\n",
    "- Set `learning_rate` to the learning rate.\n",
    "- Set `show_every_n_batches` to the number of batches the neural network should print progress."
   ]
  },
  {
   "cell_type": "code",
   "execution_count": 22,
   "metadata": {},
   "outputs": [],
   "source": [
    "num_epochs = 100\n",
    "batch_size = 64\n",
    "rnn_size = 256\n",
    "embed_dim = 256\n",
    "seq_length = 32\n",
    "learning_rate = 0.01\n",
    "show_every_n_batches = 16\n",
    "\n",
    "\"\"\"\n",
    "DON'T MODIFY ANYTHING IN THIS CELL THAT IS BELOW THIS LINE\n",
    "\"\"\"\n",
    "save_dir = './save'"
   ]
  },
  {
   "cell_type": "markdown",
   "metadata": {},
   "source": [
    "### Build the Graph\n",
    "Build the graph using the neural network you implemented."
   ]
  },
  {
   "cell_type": "code",
   "execution_count": 23,
   "metadata": {},
   "outputs": [],
   "source": [
    "\"\"\"\n",
    "DON'T MODIFY ANYTHING IN THIS CELL\n",
    "\"\"\"\n",
    "from tensorflow.contrib import seq2seq\n",
    "\n",
    "train_graph = tf.Graph()\n",
    "with train_graph.as_default():\n",
    "    vocab_size = len(int_to_vocab)\n",
    "    input_text, targets, lr = get_inputs()\n",
    "    input_data_shape = tf.shape(input_text)\n",
    "    cell, initial_state = get_init_cell(input_data_shape[0], rnn_size)\n",
    "    logits, final_state = build_nn(cell, rnn_size, input_text, vocab_size, embed_dim)\n",
    "\n",
    "    # Probabilities for generating words\n",
    "    probs = tf.nn.softmax(logits, name='probs')\n",
    "\n",
    "    # Loss function\n",
    "    cost = seq2seq.sequence_loss(\n",
    "        logits,\n",
    "        targets,\n",
    "        tf.ones([input_data_shape[0], input_data_shape[1]]))\n",
    "\n",
    "    # Optimizer\n",
    "    optimizer = tf.train.AdamOptimizer(lr)\n",
    "\n",
    "    # Gradient Clipping\n",
    "    gradients = optimizer.compute_gradients(cost)\n",
    "    capped_gradients = [(tf.clip_by_value(grad, -1., 1.), var) for grad, var in gradients if grad is not None]\n",
    "    train_op = optimizer.apply_gradients(capped_gradients)"
   ]
  },
  {
   "cell_type": "markdown",
   "metadata": {},
   "source": [
    "## Train\n",
    "Train the neural network on the preprocessed data.  If you have a hard time getting a good loss, check the [forums](https://discussions.udacity.com/) to see if anyone is having the same problem."
   ]
  },
  {
   "cell_type": "code",
   "execution_count": 24,
   "metadata": {},
   "outputs": [
    {
     "name": "stdout",
     "output_type": "stream",
     "text": [
      "Epoch   0 Batch    0/33   train_loss = 8.828\n",
      "Epoch   0 Batch   16/33   train_loss = 5.523\n",
      "Epoch   0 Batch   32/33   train_loss = 5.337\n",
      "Epoch   1 Batch   15/33   train_loss = 4.625\n",
      "Epoch   1 Batch   31/33   train_loss = 4.477\n",
      "Epoch   2 Batch   14/33   train_loss = 4.156\n",
      "Epoch   2 Batch   30/33   train_loss = 3.948\n",
      "Epoch   3 Batch   13/33   train_loss = 3.741\n",
      "Epoch   3 Batch   29/33   train_loss = 3.479\n",
      "Epoch   4 Batch   12/33   train_loss = 3.270\n",
      "Epoch   4 Batch   28/33   train_loss = 3.201\n",
      "Epoch   5 Batch   11/33   train_loss = 2.994\n",
      "Epoch   5 Batch   27/33   train_loss = 2.853\n",
      "Epoch   6 Batch   10/33   train_loss = 2.715\n",
      "Epoch   6 Batch   26/33   train_loss = 2.619\n",
      "Epoch   7 Batch    9/33   train_loss = 2.375\n",
      "Epoch   7 Batch   25/33   train_loss = 2.387\n",
      "Epoch   8 Batch    8/33   train_loss = 2.132\n",
      "Epoch   8 Batch   24/33   train_loss = 2.065\n",
      "Epoch   9 Batch    7/33   train_loss = 1.894\n",
      "Epoch   9 Batch   23/33   train_loss = 1.880\n",
      "Epoch  10 Batch    6/33   train_loss = 1.826\n",
      "Epoch  10 Batch   22/33   train_loss = 1.630\n",
      "Epoch  11 Batch    5/33   train_loss = 1.538\n",
      "Epoch  11 Batch   21/33   train_loss = 1.585\n",
      "Epoch  12 Batch    4/33   train_loss = 1.476\n",
      "Epoch  12 Batch   20/33   train_loss = 1.326\n",
      "Epoch  13 Batch    3/33   train_loss = 1.313\n",
      "Epoch  13 Batch   19/33   train_loss = 1.242\n",
      "Epoch  14 Batch    2/33   train_loss = 1.189\n",
      "Epoch  14 Batch   18/33   train_loss = 1.148\n",
      "Epoch  15 Batch    1/33   train_loss = 1.081\n",
      "Epoch  15 Batch   17/33   train_loss = 0.991\n",
      "Epoch  16 Batch    0/33   train_loss = 1.009\n",
      "Epoch  16 Batch   16/33   train_loss = 0.992\n",
      "Epoch  16 Batch   32/33   train_loss = 0.893\n",
      "Epoch  17 Batch   15/33   train_loss = 0.871\n",
      "Epoch  17 Batch   31/33   train_loss = 0.833\n",
      "Epoch  18 Batch   14/33   train_loss = 0.795\n",
      "Epoch  18 Batch   30/33   train_loss = 0.785\n",
      "Epoch  19 Batch   13/33   train_loss = 0.723\n",
      "Epoch  19 Batch   29/33   train_loss = 0.721\n",
      "Epoch  20 Batch   12/33   train_loss = 0.727\n",
      "Epoch  20 Batch   28/33   train_loss = 0.642\n",
      "Epoch  21 Batch   11/33   train_loss = 0.563\n",
      "Epoch  21 Batch   27/33   train_loss = 0.592\n",
      "Epoch  22 Batch   10/33   train_loss = 0.556\n",
      "Epoch  22 Batch   26/33   train_loss = 0.564\n",
      "Epoch  23 Batch    9/33   train_loss = 0.510\n",
      "Epoch  23 Batch   25/33   train_loss = 0.503\n",
      "Epoch  24 Batch    8/33   train_loss = 0.465\n",
      "Epoch  24 Batch   24/33   train_loss = 0.453\n",
      "Epoch  25 Batch    7/33   train_loss = 0.405\n",
      "Epoch  25 Batch   23/33   train_loss = 0.419\n",
      "Epoch  26 Batch    6/33   train_loss = 0.413\n",
      "Epoch  26 Batch   22/33   train_loss = 0.421\n",
      "Epoch  27 Batch    5/33   train_loss = 0.348\n",
      "Epoch  27 Batch   21/33   train_loss = 0.384\n",
      "Epoch  28 Batch    4/33   train_loss = 0.373\n",
      "Epoch  28 Batch   20/33   train_loss = 0.334\n",
      "Epoch  29 Batch    3/33   train_loss = 0.322\n",
      "Epoch  29 Batch   19/33   train_loss = 0.318\n",
      "Epoch  30 Batch    2/33   train_loss = 0.322\n",
      "Epoch  30 Batch   18/33   train_loss = 0.314\n",
      "Epoch  31 Batch    1/33   train_loss = 0.303\n",
      "Epoch  31 Batch   17/33   train_loss = 0.265\n",
      "Epoch  32 Batch    0/33   train_loss = 0.286\n",
      "Epoch  32 Batch   16/33   train_loss = 0.249\n",
      "Epoch  32 Batch   32/33   train_loss = 0.260\n",
      "Epoch  33 Batch   15/33   train_loss = 0.257\n",
      "Epoch  33 Batch   31/33   train_loss = 0.274\n",
      "Epoch  34 Batch   14/33   train_loss = 0.224\n",
      "Epoch  34 Batch   30/33   train_loss = 0.244\n",
      "Epoch  35 Batch   13/33   train_loss = 0.234\n",
      "Epoch  35 Batch   29/33   train_loss = 0.236\n",
      "Epoch  36 Batch   12/33   train_loss = 0.251\n",
      "Epoch  36 Batch   28/33   train_loss = 0.223\n",
      "Epoch  37 Batch   11/33   train_loss = 0.179\n",
      "Epoch  37 Batch   27/33   train_loss = 0.220\n",
      "Epoch  38 Batch   10/33   train_loss = 0.226\n",
      "Epoch  38 Batch   26/33   train_loss = 0.234\n",
      "Epoch  39 Batch    9/33   train_loss = 0.212\n",
      "Epoch  39 Batch   25/33   train_loss = 0.228\n",
      "Epoch  40 Batch    8/33   train_loss = 0.237\n",
      "Epoch  40 Batch   24/33   train_loss = 0.236\n",
      "Epoch  41 Batch    7/33   train_loss = 0.232\n",
      "Epoch  41 Batch   23/33   train_loss = 0.253\n",
      "Epoch  42 Batch    6/33   train_loss = 0.277\n",
      "Epoch  42 Batch   22/33   train_loss = 0.291\n",
      "Epoch  43 Batch    5/33   train_loss = 0.304\n",
      "Epoch  43 Batch   21/33   train_loss = 0.362\n",
      "Epoch  44 Batch    4/33   train_loss = 0.388\n",
      "Epoch  44 Batch   20/33   train_loss = 0.437\n",
      "Epoch  45 Batch    3/33   train_loss = 0.491\n",
      "Epoch  45 Batch   19/33   train_loss = 0.522\n",
      "Epoch  46 Batch    2/33   train_loss = 0.635\n",
      "Epoch  46 Batch   18/33   train_loss = 0.704\n",
      "Epoch  47 Batch    1/33   train_loss = 0.716\n",
      "Epoch  47 Batch   17/33   train_loss = 0.730\n",
      "Epoch  48 Batch    0/33   train_loss = 0.712\n",
      "Epoch  48 Batch   16/33   train_loss = 0.716\n",
      "Epoch  48 Batch   32/33   train_loss = 0.638\n",
      "Epoch  49 Batch   15/33   train_loss = 0.621\n",
      "Epoch  49 Batch   31/33   train_loss = 0.607\n",
      "Epoch  50 Batch   14/33   train_loss = 0.526\n",
      "Epoch  50 Batch   30/33   train_loss = 0.476\n",
      "Epoch  51 Batch   13/33   train_loss = 0.432\n",
      "Epoch  51 Batch   29/33   train_loss = 0.383\n",
      "Epoch  52 Batch   12/33   train_loss = 0.334\n",
      "Epoch  52 Batch   28/33   train_loss = 0.290\n",
      "Epoch  53 Batch   11/33   train_loss = 0.240\n",
      "Epoch  53 Batch   27/33   train_loss = 0.234\n",
      "Epoch  54 Batch   10/33   train_loss = 0.208\n",
      "Epoch  54 Batch   26/33   train_loss = 0.185\n",
      "Epoch  55 Batch    9/33   train_loss = 0.153\n",
      "Epoch  55 Batch   25/33   train_loss = 0.152\n",
      "Epoch  56 Batch    8/33   train_loss = 0.149\n",
      "Epoch  56 Batch   24/33   train_loss = 0.117\n",
      "Epoch  57 Batch    7/33   train_loss = 0.114\n",
      "Epoch  57 Batch   23/33   train_loss = 0.111\n",
      "Epoch  58 Batch    6/33   train_loss = 0.122\n",
      "Epoch  58 Batch   22/33   train_loss = 0.118\n",
      "Epoch  59 Batch    5/33   train_loss = 0.101\n",
      "Epoch  59 Batch   21/33   train_loss = 0.114\n",
      "Epoch  60 Batch    4/33   train_loss = 0.113\n",
      "Epoch  60 Batch   20/33   train_loss = 0.106\n",
      "Epoch  61 Batch    3/33   train_loss = 0.091\n",
      "Epoch  61 Batch   19/33   train_loss = 0.107\n",
      "Epoch  62 Batch    2/33   train_loss = 0.105\n",
      "Epoch  62 Batch   18/33   train_loss = 0.109\n",
      "Epoch  63 Batch    1/33   train_loss = 0.112\n",
      "Epoch  63 Batch   17/33   train_loss = 0.093\n",
      "Epoch  64 Batch    0/33   train_loss = 0.100\n",
      "Epoch  64 Batch   16/33   train_loss = 0.095\n",
      "Epoch  64 Batch   32/33   train_loss = 0.107\n",
      "Epoch  65 Batch   15/33   train_loss = 0.094\n",
      "Epoch  65 Batch   31/33   train_loss = 0.107\n",
      "Epoch  66 Batch   14/33   train_loss = 0.085\n",
      "Epoch  66 Batch   30/33   train_loss = 0.095\n",
      "Epoch  67 Batch   13/33   train_loss = 0.092\n",
      "Epoch  67 Batch   29/33   train_loss = 0.098\n",
      "Epoch  68 Batch   12/33   train_loss = 0.116\n",
      "Epoch  68 Batch   28/33   train_loss = 0.103\n",
      "Epoch  69 Batch   11/33   train_loss = 0.075\n",
      "Epoch  69 Batch   27/33   train_loss = 0.099\n",
      "Epoch  70 Batch   10/33   train_loss = 0.095\n",
      "Epoch  70 Batch   26/33   train_loss = 0.088\n",
      "Epoch  71 Batch    9/33   train_loss = 0.091\n",
      "Epoch  71 Batch   25/33   train_loss = 0.095\n",
      "Epoch  72 Batch    8/33   train_loss = 0.101\n",
      "Epoch  72 Batch   24/33   train_loss = 0.083\n",
      "Epoch  73 Batch    7/33   train_loss = 0.084\n",
      "Epoch  73 Batch   23/33   train_loss = 0.087\n",
      "Epoch  74 Batch    6/33   train_loss = 0.098\n",
      "Epoch  74 Batch   22/33   train_loss = 0.095\n",
      "Epoch  75 Batch    5/33   train_loss = 0.086\n",
      "Epoch  75 Batch   21/33   train_loss = 0.102\n",
      "Epoch  76 Batch    4/33   train_loss = 0.101\n",
      "Epoch  76 Batch   20/33   train_loss = 0.095\n",
      "Epoch  77 Batch    3/33   train_loss = 0.083\n",
      "Epoch  77 Batch   19/33   train_loss = 0.101\n",
      "Epoch  78 Batch    2/33   train_loss = 0.099\n",
      "Epoch  78 Batch   18/33   train_loss = 0.103\n",
      "Epoch  79 Batch    1/33   train_loss = 0.107\n",
      "Epoch  79 Batch   17/33   train_loss = 0.088\n",
      "Epoch  80 Batch    0/33   train_loss = 0.094\n",
      "Epoch  80 Batch   16/33   train_loss = 0.090\n",
      "Epoch  80 Batch   32/33   train_loss = 0.103\n",
      "Epoch  81 Batch   15/33   train_loss = 0.090\n",
      "Epoch  81 Batch   31/33   train_loss = 0.104\n",
      "Epoch  82 Batch   14/33   train_loss = 0.081\n",
      "Epoch  82 Batch   30/33   train_loss = 0.091\n",
      "Epoch  83 Batch   13/33   train_loss = 0.089\n",
      "Epoch  83 Batch   29/33   train_loss = 0.094\n",
      "Epoch  84 Batch   12/33   train_loss = 0.113\n",
      "Epoch  84 Batch   28/33   train_loss = 0.101\n",
      "Epoch  85 Batch   11/33   train_loss = 0.072\n",
      "Epoch  85 Batch   27/33   train_loss = 0.096\n",
      "Epoch  86 Batch   10/33   train_loss = 0.093\n",
      "Epoch  86 Batch   26/33   train_loss = 0.086\n",
      "Epoch  87 Batch    9/33   train_loss = 0.088\n",
      "Epoch  87 Batch   25/33   train_loss = 0.093\n",
      "Epoch  88 Batch    8/33   train_loss = 0.099\n"
     ]
    },
    {
     "name": "stdout",
     "output_type": "stream",
     "text": [
      "Epoch  88 Batch   24/33   train_loss = 0.081\n",
      "Epoch  89 Batch    7/33   train_loss = 0.083\n",
      "Epoch  89 Batch   23/33   train_loss = 0.086\n",
      "Epoch  90 Batch    6/33   train_loss = 0.096\n",
      "Epoch  90 Batch   22/33   train_loss = 0.093\n",
      "Epoch  91 Batch    5/33   train_loss = 0.084\n",
      "Epoch  91 Batch   21/33   train_loss = 0.100\n",
      "Epoch  92 Batch    4/33   train_loss = 0.099\n",
      "Epoch  92 Batch   20/33   train_loss = 0.093\n",
      "Epoch  93 Batch    3/33   train_loss = 0.082\n",
      "Epoch  93 Batch   19/33   train_loss = 0.100\n",
      "Epoch  94 Batch    2/33   train_loss = 0.097\n",
      "Epoch  94 Batch   18/33   train_loss = 0.103\n",
      "Epoch  95 Batch    1/33   train_loss = 0.106\n",
      "Epoch  95 Batch   17/33   train_loss = 0.087\n",
      "Epoch  96 Batch    0/33   train_loss = 0.094\n",
      "Epoch  96 Batch   16/33   train_loss = 0.089\n",
      "Epoch  96 Batch   32/33   train_loss = 0.103\n",
      "Epoch  97 Batch   15/33   train_loss = 0.089\n",
      "Epoch  97 Batch   31/33   train_loss = 0.103\n",
      "Epoch  98 Batch   14/33   train_loss = 0.080\n",
      "Epoch  98 Batch   30/33   train_loss = 0.090\n",
      "Epoch  99 Batch   13/33   train_loss = 0.088\n",
      "Epoch  99 Batch   29/33   train_loss = 0.093\n",
      "Model Trained and Saved\n"
     ]
    }
   ],
   "source": [
    "\"\"\"\n",
    "DON'T MODIFY ANYTHING IN THIS CELL\n",
    "\"\"\"\n",
    "batches = get_batches(int_text, batch_size, seq_length)\n",
    "\n",
    "with tf.Session(graph=train_graph) as sess:\n",
    "    sess.run(tf.global_variables_initializer())\n",
    "\n",
    "    for epoch_i in range(num_epochs):\n",
    "        state = sess.run(initial_state, {input_text: batches[0][0]})\n",
    "\n",
    "        for batch_i, (x, y) in enumerate(batches):\n",
    "            feed = {\n",
    "                input_text: x,\n",
    "                targets: y,\n",
    "                initial_state: state,\n",
    "                lr: learning_rate}\n",
    "            train_loss, state, _ = sess.run([cost, final_state, train_op], feed)\n",
    "\n",
    "            # Show every <show_every_n_batches> batches\n",
    "            if (epoch_i * len(batches) + batch_i) % show_every_n_batches == 0:\n",
    "                print('Epoch {:>3} Batch {:>4}/{}   train_loss = {:.3f}'.format(\n",
    "                    epoch_i,\n",
    "                    batch_i,\n",
    "                    len(batches),\n",
    "                    train_loss))\n",
    "\n",
    "    # Save Model\n",
    "    saver = tf.train.Saver()\n",
    "    saver.save(sess, save_dir)\n",
    "    print('Model Trained and Saved')"
   ]
  },
  {
   "cell_type": "markdown",
   "metadata": {},
   "source": [
    "## Save Parameters\n",
    "Save `seq_length` and `save_dir` for generating a new TV script."
   ]
  },
  {
   "cell_type": "code",
   "execution_count": 26,
   "metadata": {},
   "outputs": [],
   "source": [
    "\"\"\"\n",
    "DON'T MODIFY ANYTHING IN THIS CELL\n",
    "\"\"\"\n",
    "# Save parameters for checkpoint\n",
    "helper.save_params((seq_length, save_dir))"
   ]
  },
  {
   "cell_type": "markdown",
   "metadata": {},
   "source": [
    "# Checkpoint"
   ]
  },
  {
   "cell_type": "code",
   "execution_count": 27,
   "metadata": {},
   "outputs": [],
   "source": [
    "\"\"\"\n",
    "DON'T MODIFY ANYTHING IN THIS CELL\n",
    "\"\"\"\n",
    "import tensorflow as tf\n",
    "import numpy as np\n",
    "import helper\n",
    "import problem_unittests as tests\n",
    "\n",
    "_, vocab_to_int, int_to_vocab, token_dict = helper.load_preprocess()\n",
    "seq_length, load_dir = helper.load_params()"
   ]
  },
  {
   "cell_type": "markdown",
   "metadata": {},
   "source": [
    "## Implement Generate Functions\n",
    "### Get Tensors\n",
    "Get tensors from `loaded_graph` using the function [`get_tensor_by_name()`](https://www.tensorflow.org/api_docs/python/tf/Graph#get_tensor_by_name).  Get the tensors using the following names:\n",
    "- \"input:0\"\n",
    "- \"initial_state:0\"\n",
    "- \"final_state:0\"\n",
    "- \"probs:0\"\n",
    "\n",
    "Return the tensors in the following tuple `(InputTensor, InitialStateTensor, FinalStateTensor, ProbsTensor)` "
   ]
  },
  {
   "cell_type": "code",
   "execution_count": 28,
   "metadata": {},
   "outputs": [
    {
     "name": "stdout",
     "output_type": "stream",
     "text": [
      "Tests Passed\n"
     ]
    }
   ],
   "source": [
    "def get_tensors(loaded_graph):\n",
    "    \"\"\"\n",
    "    Get input, initial state, final state, and probabilities tensor from <loaded_graph>\n",
    "    :param loaded_graph: TensorFlow graph loaded from file\n",
    "    :return: Tuple (InputTensor, InitialStateTensor, FinalStateTensor, ProbsTensor)\n",
    "    \"\"\"\n",
    "    # TODO: Implement Function\n",
    "    InputTensor = loaded_graph.get_tensor_by_name('input:0')\n",
    "    InitialStateTensor = loaded_graph.get_tensor_by_name('initial_state:0')\n",
    "    FinalStateTensor = loaded_graph.get_tensor_by_name('final_state:0')\n",
    "    ProbsTensor = loaded_graph.get_tensor_by_name('probs:0')\n",
    "    return (InputTensor, InitialStateTensor, FinalStateTensor, ProbsTensor)\n",
    "\n",
    "\n",
    "\"\"\"\n",
    "DON'T MODIFY ANYTHING IN THIS CELL THAT IS BELOW THIS LINE\n",
    "\"\"\"\n",
    "tests.test_get_tensors(get_tensors)"
   ]
  },
  {
   "cell_type": "markdown",
   "metadata": {},
   "source": [
    "### Choose Word\n",
    "Implement the `pick_word()` function to select the next word using `probabilities`."
   ]
  },
  {
   "cell_type": "code",
   "execution_count": 29,
   "metadata": {},
   "outputs": [
    {
     "name": "stdout",
     "output_type": "stream",
     "text": [
      "Tests Passed\n"
     ]
    }
   ],
   "source": [
    "def pick_word(probabilities, int_to_vocab):\n",
    "    \"\"\"\n",
    "    Pick the next word in the generated text\n",
    "    :param probabilities: Probabilites of the next word\n",
    "    :param int_to_vocab: Dictionary of word ids as the keys and words as the values\n",
    "    :return: String of the predicted word\n",
    "    \"\"\"\n",
    "    # TODO: Implement Function\n",
    "    return int_to_vocab[np.argmax(probabilities)]\n",
    "\n",
    "\n",
    "\"\"\"\n",
    "DON'T MODIFY ANYTHING IN THIS CELL THAT IS BELOW THIS LINE\n",
    "\"\"\"\n",
    "tests.test_pick_word(pick_word)"
   ]
  },
  {
   "cell_type": "markdown",
   "metadata": {},
   "source": [
    "## Generate TV Script\n",
    "This will generate the TV script for you.  Set `gen_length` to the length of TV script you want to generate."
   ]
  },
  {
   "cell_type": "code",
   "execution_count": 30,
   "metadata": {},
   "outputs": [
    {
     "name": "stdout",
     "output_type": "stream",
     "text": [
      "INFO:tensorflow:Restoring parameters from ./save\n",
      "moe_szyslak:(as dentist) okay, this might hurt a little.(as patient, cotton in mouth) no problem.\n",
      "moe_szyslak:(in pain) oh, sweet.\n",
      "homer_simpson:(looking at watch) ah. finished, i'm looking for a mrs. o'problem. first name... bee o'problem.\n",
      "carl_carlson:(singing) hello...\n",
      "apu_nahasapeemapetilon:(singing) hello...\n",
      "all:(japanese accent) voice too poor for karaoke. shutting doooown. bye now.\n",
      "moe_szyslak: knock you) i'm not here.\n",
      "homer_simpson:(meaningful) don't worry. your secret's safe with me.\n",
      "homer_simpson: marge, guess what! skinner wants to play virtual pool!\n",
      "other_player: ow!\n",
      "moe_szyslak: hey, hey, no fightin'.\n",
      "homer_simpson: you can't talk that way about my kids. or, at least two of them.\n",
      "barney_gumble: i'd like a girl a duff, i don't want to see that moolah-stealing jackpot-thief again!\n",
      "homer_simpson: wait a minute, where the fdic can't get its grubby little hands on\n"
     ]
    }
   ],
   "source": [
    "gen_length = 200\n",
    "# homer_simpson, moe_szyslak, or Barney_Gumble\n",
    "prime_word = 'moe_szyslak'\n",
    "\n",
    "\"\"\"\n",
    "DON'T MODIFY ANYTHING IN THIS CELL THAT IS BELOW THIS LINE\n",
    "\"\"\"\n",
    "loaded_graph = tf.Graph()\n",
    "with tf.Session(graph=loaded_graph) as sess:\n",
    "    # Load saved model\n",
    "    loader = tf.train.import_meta_graph(load_dir + '.meta')\n",
    "    loader.restore(sess, load_dir)\n",
    "\n",
    "    # Get Tensors from loaded model\n",
    "    input_text, initial_state, final_state, probs = get_tensors(loaded_graph)\n",
    "\n",
    "    # Sentences generation setup\n",
    "    gen_sentences = [prime_word + ':']\n",
    "    prev_state = sess.run(initial_state, {input_text: np.array([[1]])})\n",
    "\n",
    "    # Generate sentences\n",
    "    for n in range(gen_length):\n",
    "        # Dynamic Input\n",
    "        dyn_input = [[vocab_to_int[word] for word in gen_sentences[-seq_length:]]]\n",
    "        dyn_seq_length = len(dyn_input[0])\n",
    "\n",
    "        # Get Prediction\n",
    "        probabilities, prev_state = sess.run(\n",
    "            [probs, final_state],\n",
    "            {input_text: dyn_input, initial_state: prev_state})\n",
    "        \n",
    "        pred_word = pick_word(probabilities[0][dyn_seq_length-1], int_to_vocab)\n",
    "\n",
    "        gen_sentences.append(pred_word)\n",
    "    \n",
    "    # Remove tokens\n",
    "    tv_script = ' '.join(gen_sentences)\n",
    "    for key, token in token_dict.items():\n",
    "        ending = ' ' if key in ['\\n', '(', '\"'] else ''\n",
    "        tv_script = tv_script.replace(' ' + token.lower(), key)\n",
    "    tv_script = tv_script.replace('\\n ', '\\n')\n",
    "    tv_script = tv_script.replace('( ', '(')\n",
    "        \n",
    "    print(tv_script)"
   ]
  },
  {
   "cell_type": "markdown",
   "metadata": {},
   "source": [
    "# The TV Script is Nonsensical\n",
    "It's ok if the TV script doesn't make any sense.  We trained on less than a megabyte of text.  In order to get good results, you'll have to use a smaller vocabulary or get more data.  Luckily there's more data!  As we mentioned in the beggining of this project, this is a subset of [another dataset](https://www.kaggle.com/wcukierski/the-simpsons-by-the-data).  We didn't have you train on all the data, because that would take too long.  However, you are free to train your neural network on all the data.  After you complete the project, of course.\n",
    "# Submitting This Project\n",
    "When submitting this project, make sure to run all the cells before saving the notebook. Save the notebook file as \"dlnd_tv_script_generation.ipynb\" and save it as a HTML file under \"File\" -> \"Download as\". Include the \"helper.py\" and \"problem_unittests.py\" files in your submission."
   ]
  }
 ],
 "metadata": {
  "kernelspec": {
   "display_name": "Python 3",
   "language": "python",
   "name": "python3"
  },
  "language_info": {
   "codemirror_mode": {
    "name": "ipython",
    "version": 3
   },
   "file_extension": ".py",
   "mimetype": "text/x-python",
   "name": "python",
   "nbconvert_exporter": "python",
   "pygments_lexer": "ipython3",
   "version": "3.6.3"
  },
  "widgets": {
   "state": {},
   "version": "1.1.2"
  }
 },
 "nbformat": 4,
 "nbformat_minor": 1
}
